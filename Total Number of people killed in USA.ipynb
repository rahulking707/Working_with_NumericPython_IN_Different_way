{
 "cells": [
  {
   "cell_type": "code",
   "execution_count": 16,
   "id": "5bf20a2a",
   "metadata": {},
   "outputs": [
    {
     "name": "stdout",
     "output_type": "stream",
     "text": [
      "Total Number of People killed in USA in 2017: 95\n"
     ]
    }
   ],
   "source": [
    "import numpy as np\n",
    "import csv\n",
    "with open(\"year2017.csv\",\"r\") as file_obj:\n",
    "    file_data=csv.DictReader(file_obj,skipinitialspace=True)\n",
    "    list_data=list(file_data)\n",
    "    \n",
    "killed=[]\n",
    "country=[]\n",
    "\n",
    "for row in list_data:\n",
    "    killed.append(row[\"Killed\"])\n",
    "    country.append(row[\"Country\"])\n",
    "    \n",
    "np_killed=np.array(killed)\n",
    "np_country=np.array(country)\n",
    "\n",
    "np_killed[np_killed==\"\"]=0.0\n",
    "np_country[np_country==\"\"]=0.0\n",
    "\n",
    "np_killed=np.array(np_killed,dtype=float)\n",
    "np_country=np.array(np_country)\n",
    "sum(np_killed)\n",
    "total_killed=np_killed\n",
    "\n",
    "\n",
    "bool_arr=np_country==\"United States\"\n",
    "ans=total_killed[bool_arr]\n",
    "print(\"Total Number of People killed in USA in 2017:\",int(np.sum(ans)))"
   ]
  },
  {
   "cell_type": "code",
   "execution_count": null,
   "id": "df6ff0a0",
   "metadata": {},
   "outputs": [],
   "source": []
  },
  {
   "cell_type": "code",
   "execution_count": null,
   "id": "06edd5e0",
   "metadata": {},
   "outputs": [],
   "source": []
  }
 ],
 "metadata": {
  "kernelspec": {
   "display_name": "Python 3 (ipykernel)",
   "language": "python",
   "name": "python3"
  },
  "language_info": {
   "codemirror_mode": {
    "name": "ipython",
    "version": 3
   },
   "file_extension": ".py",
   "mimetype": "text/x-python",
   "name": "python",
   "nbconvert_exporter": "python",
   "pygments_lexer": "ipython3",
   "version": "3.11.4"
  }
 },
 "nbformat": 4,
 "nbformat_minor": 5
}
